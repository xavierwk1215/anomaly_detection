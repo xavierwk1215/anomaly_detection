{
  "nbformat": 4,
  "nbformat_minor": 0,
  "metadata": {
    "colab": {
      "name": "check_video_size.ipynb",
      "provenance": [],
      "collapsed_sections": []
    },
    "kernelspec": {
      "name": "python3",
      "display_name": "Python 3"
    }
  },
  "cells": [
    {
      "cell_type": "code",
      "metadata": {
        "id": "qLNXcA4k4GoY",
        "colab_type": "code",
        "colab": {}
      },
      "source": [
        "from google.colab import drive\n",
        "drive.mount('/content/gdrive')"
      ],
      "execution_count": null,
      "outputs": []
    },
    {
      "cell_type": "code",
      "metadata": {
        "id": "U6wThuC-4NxN",
        "colab_type": "code",
        "colab": {
          "base_uri": "https://localhost:8080/",
          "height": 161
        },
        "outputId": "c1fd3c44-bf9e-46f9-e189-b72ad161907b"
      },
      "source": [
        "# check Utubtu version\n",
        "!lsb_release -a\n",
        "# by default, CUDA is enabled under GPU mode of Google Colab\n",
        "!ls /usr/local"
      ],
      "execution_count": null,
      "outputs": [
        {
          "output_type": "stream",
          "text": [
            "No LSB modules are available.\n",
            "Distributor ID:\tUbuntu\n",
            "Description:\tUbuntu 18.04.5 LTS\n",
            "Release:\t18.04\n",
            "Codename:\tbionic\n",
            "bin\t   cuda-10.1  _gcs_config_ops.so  LICENSE.txt  setup.cfg  xgboost\n",
            "cuda\t   etc\t      include\t\t  man\t       share\n",
            "cuda-10.0  games      lib\t\t  sbin\t       src\n"
          ],
          "name": "stdout"
        }
      ]
    },
    {
      "cell_type": "code",
      "metadata": {
        "id": "iWCLAg8g4N77",
        "colab_type": "code",
        "colab": {
          "base_uri": "https://localhost:8080/",
          "height": 53
        },
        "outputId": "79cbf80a-1924-40cb-efde-b6318bb27cb6"
      },
      "source": [
        "# 영상 위치로 이동\n",
        "%cd /content/drive/My Drive/warming-up project/yOnOm/raw_videos/\n",
        "!ls"
      ],
      "execution_count": null,
      "outputs": [
        {
          "output_type": "stream",
          "text": [
            "/content/drive/My Drive/warming-up project/yOnOm/raw_videos\n",
            "videos_abnormal  videos_normal\n"
          ],
          "name": "stdout"
        }
      ]
    },
    {
      "cell_type": "code",
      "metadata": {
        "id": "DzohTswmLpOs",
        "colab_type": "code",
        "colab": {
          "base_uri": "https://localhost:8080/",
          "height": 73
        },
        "outputId": "8d656b64-ccee-4388-ccc3-cdb19d55af54"
      },
      "source": [
        "import glob\n",
        "abnormal = './videos_abnormal'\n",
        "normal = './videos_normal'\n",
        "\n",
        "file_ab = sorted(glob.glob(abnormal + \"/*.mp4\"))\n",
        "file_no = sorted(glob.glob(normal + '/*.mp4'))\n",
        "print(file_ab)\n",
        "print(file_no)"
      ],
      "execution_count": null,
      "outputs": [
        {
          "output_type": "stream",
          "text": [
            "['./videos_abnormal/abnormal_video_001.mp4', './videos_abnormal/abnormal_video_002.mp4', './videos_abnormal/abnormal_video_003.mp4', './videos_abnormal/abnormal_video_004.mp4', './videos_abnormal/abnormal_video_005.mp4', './videos_abnormal/abnormal_video_006.mp4', './videos_abnormal/abnormal_video_007.mp4', './videos_abnormal/abnormal_video_008.mp4', './videos_abnormal/abnormal_video_009.mp4', './videos_abnormal/abnormal_video_010.mp4', './videos_abnormal/abnormal_video_011.mp4', './videos_abnormal/abnormal_video_012.mp4', './videos_abnormal/abnormal_video_013.mp4', './videos_abnormal/abnormal_video_014.mp4', './videos_abnormal/abnormal_video_015.mp4', './videos_abnormal/abnormal_video_016.mp4', './videos_abnormal/abnormal_video_017.mp4', './videos_abnormal/abnormal_video_018.mp4', './videos_abnormal/abnormal_video_019.mp4', './videos_abnormal/abnormal_video_020.mp4', './videos_abnormal/abnormal_video_021.mp4', './videos_abnormal/abnormal_video_022.mp4', './videos_abnormal/abnormal_video_023.mp4', './videos_abnormal/abnormal_video_024.mp4', './videos_abnormal/abnormal_video_025.mp4', './videos_abnormal/abnormal_video_026.mp4', './videos_abnormal/abnormal_video_027.mp4', './videos_abnormal/abnormal_video_028.mp4', './videos_abnormal/abnormal_video_029.mp4', './videos_abnormal/abnormal_video_030.mp4', './videos_abnormal/abnormal_video_031.mp4', './videos_abnormal/abnormal_video_032.mp4', './videos_abnormal/abnormal_video_033.mp4', './videos_abnormal/abnormal_video_034.mp4', './videos_abnormal/abnormal_video_035.mp4', './videos_abnormal/abnormal_video_036.mp4', './videos_abnormal/abnormal_video_037.mp4', './videos_abnormal/abnormal_video_038.mp4', './videos_abnormal/abnormal_video_039.mp4', './videos_abnormal/abnormal_video_040.mp4', './videos_abnormal/abnormal_video_041.mp4', './videos_abnormal/abnormal_video_042.mp4', './videos_abnormal/abnormal_video_043.mp4', './videos_abnormal/abnormal_video_044.mp4']\n",
            "['./videos_normal/normal_video_001.mp4', './videos_normal/normal_video_002.mp4', './videos_normal/normal_video_003.mp4', './videos_normal/normal_video_004.mp4', './videos_normal/normal_video_005.mp4', './videos_normal/normal_video_006.mp4', './videos_normal/normal_video_007.mp4', './videos_normal/normal_video_008.mp4', './videos_normal/normal_video_009.mp4', './videos_normal/normal_video_010.mp4', './videos_normal/normal_video_011.mp4', './videos_normal/normal_video_012.mp4', './videos_normal/normal_video_013.mp4', './videos_normal/normal_video_014.mp4', './videos_normal/normal_video_015.mp4', './videos_normal/normal_video_016.mp4', './videos_normal/normal_video_017.mp4', './videos_normal/normal_video_018.mp4', './videos_normal/normal_video_019.mp4', './videos_normal/normal_video_020.mp4', './videos_normal/normal_video_021.mp4', './videos_normal/normal_video_022.mp4', './videos_normal/normal_video_023.mp4', './videos_normal/normal_video_024.mp4', './videos_normal/normal_video_025.mp4', './videos_normal/normal_video_026.mp4', './videos_normal/normal_video_027.mp4', './videos_normal/normal_video_028.mp4', './videos_normal/normal_video_029.mp4', './videos_normal/normal_video_030.mp4', './videos_normal/normal_video_031.mp4', './videos_normal/normal_video_032.mp4', './videos_normal/normal_video_033.mp4', './videos_normal/normal_video_034.mp4', './videos_normal/normal_video_035.mp4', './videos_normal/normal_video_036.mp4', './videos_normal/normal_video_037.mp4', './videos_normal/normal_video_038.mp4', './videos_normal/normal_video_039.mp4', './videos_normal/normal_video_040.mp4', './videos_normal/normal_video_041.mp4', './videos_normal/normal_video_042.mp4']\n"
          ],
          "name": "stdout"
        }
      ]
    },
    {
      "cell_type": "code",
      "metadata": {
        "id": "CQPQ3jMT4OAn",
        "colab_type": "code",
        "colab": {
          "base_uri": "https://localhost:8080/",
          "height": 35
        },
        "outputId": "b1d3e874-5e8e-4fad-ffa0-a54257b6dab3"
      },
      "source": [
        "# total frames\n",
        "    ## input.mp4에 영상 파일 이름 넣기\n",
        "!ffprobe -v error -select_streams v:0 -show_entries stream=nb_frames -of default=nokey=1:noprint_wrappers=1 ./videos_abnormal/abnormal_video_001.mp4"
      ],
      "execution_count": null,
      "outputs": [
        {
          "output_type": "stream",
          "text": [
            "689\n"
          ],
          "name": "stdout"
        }
      ]
    },
    {
      "cell_type": "code",
      "metadata": {
        "id": "2Ig_DdUB4OEU",
        "colab_type": "code",
        "colab": {
          "base_uri": "https://localhost:8080/",
          "height": 1000
        },
        "outputId": "21ce7932-c896-4486-a1d8-14236af731b7"
      },
      "source": [
        "# Get dimensions of a video file\n",
        "    ## 우리 파일\n",
        "import cv2\n",
        "\n",
        "for path in [file_ab, file_no]:\n",
        "    for file_path in path:   \n",
        "        vid = cv2.VideoCapture(file_path)\n",
        "        height = vid.get(cv2.CAP_PROP_FRAME_HEIGHT)\n",
        "        width = vid.get(cv2.CAP_PROP_FRAME_WIDTH)\n",
        "        print(\"{} : {} x {}\".format(file_path.split('/')[-1], int(height), int(width)))"
      ],
      "execution_count": null,
      "outputs": [
        {
          "output_type": "stream",
          "text": [
            "abnormal_video_001.mp4 : 2160 x 3840\n",
            "abnormal_video_002.mp4 : 2160 x 3840\n",
            "abnormal_video_003.mp4 : 2160 x 3840\n",
            "abnormal_video_004.mp4 : 2160 x 3840\n",
            "abnormal_video_005.mp4 : 2160 x 3840\n",
            "abnormal_video_006.mp4 : 2160 x 3840\n",
            "abnormal_video_007.mp4 : 2160 x 3840\n",
            "abnormal_video_008.mp4 : 2160 x 3840\n",
            "abnormal_video_009.mp4 : 2160 x 3840\n",
            "abnormal_video_010.mp4 : 2160 x 3840\n",
            "abnormal_video_011.mp4 : 2160 x 3840\n",
            "abnormal_video_012.mp4 : 2160 x 3840\n",
            "abnormal_video_013.mp4 : 2160 x 3840\n",
            "abnormal_video_014.mp4 : 2160 x 3840\n",
            "abnormal_video_015.mp4 : 2160 x 3840\n",
            "abnormal_video_016.mp4 : 2160 x 3840\n",
            "abnormal_video_017.mp4 : 2160 x 3840\n",
            "abnormal_video_018.mp4 : 2160 x 3840\n",
            "abnormal_video_019.mp4 : 2160 x 3840\n",
            "abnormal_video_020.mp4 : 2160 x 3840\n",
            "abnormal_video_021.mp4 : 2160 x 3840\n",
            "abnormal_video_022.mp4 : 2160 x 3840\n",
            "abnormal_video_023.mp4 : 2160 x 3840\n",
            "abnormal_video_024.mp4 : 2160 x 3840\n",
            "abnormal_video_025.mp4 : 2160 x 3840\n",
            "abnormal_video_026.mp4 : 2160 x 3840\n",
            "abnormal_video_027.mp4 : 2160 x 3840\n",
            "abnormal_video_028.mp4 : 2160 x 3840\n",
            "abnormal_video_029.mp4 : 2160 x 3840\n",
            "abnormal_video_030.mp4 : 2160 x 3840\n",
            "abnormal_video_031.mp4 : 2160 x 3840\n",
            "abnormal_video_032.mp4 : 2160 x 3840\n",
            "abnormal_video_033.mp4 : 2160 x 3840\n",
            "abnormal_video_034.mp4 : 2160 x 3840\n",
            "abnormal_video_035.mp4 : 2160 x 3840\n",
            "abnormal_video_036.mp4 : 2160 x 3840\n",
            "abnormal_video_037.mp4 : 2160 x 3840\n",
            "abnormal_video_038.mp4 : 2160 x 3840\n",
            "abnormal_video_039.mp4 : 2160 x 3840\n",
            "abnormal_video_040.mp4 : 2160 x 3840\n",
            "abnormal_video_041.mp4 : 2160 x 3840\n",
            "abnormal_video_042.mp4 : 2160 x 3840\n",
            "abnormal_video_043.mp4 : 2160 x 3840\n",
            "abnormal_video_044.mp4 : 2160 x 3840\n",
            "normal_video_001.mp4 : 2160 x 3840\n",
            "normal_video_002.mp4 : 2160 x 3840\n",
            "normal_video_003.mp4 : 2160 x 3840\n",
            "normal_video_004.mp4 : 2160 x 3840\n",
            "normal_video_005.mp4 : 2160 x 3840\n",
            "normal_video_006.mp4 : 2160 x 3840\n",
            "normal_video_007.mp4 : 2160 x 3840\n",
            "normal_video_008.mp4 : 2160 x 3840\n",
            "normal_video_009.mp4 : 2160 x 3840\n",
            "normal_video_010.mp4 : 2160 x 3840\n",
            "normal_video_011.mp4 : 2160 x 3840\n",
            "normal_video_012.mp4 : 2160 x 3840\n",
            "normal_video_013.mp4 : 2160 x 3840\n",
            "normal_video_014.mp4 : 2160 x 3840\n",
            "normal_video_015.mp4 : 2160 x 3840\n",
            "normal_video_016.mp4 : 2160 x 3840\n",
            "normal_video_017.mp4 : 2160 x 3840\n",
            "normal_video_018.mp4 : 2160 x 3840\n",
            "normal_video_019.mp4 : 2160 x 3840\n",
            "normal_video_020.mp4 : 2160 x 3840\n",
            "normal_video_021.mp4 : 2160 x 3840\n",
            "normal_video_022.mp4 : 2160 x 3840\n",
            "normal_video_023.mp4 : 2160 x 3840\n",
            "normal_video_024.mp4 : 2160 x 3840\n",
            "normal_video_025.mp4 : 2160 x 3840\n",
            "normal_video_026.mp4 : 2160 x 3840\n",
            "normal_video_027.mp4 : 2160 x 3840\n",
            "normal_video_028.mp4 : 2160 x 3840\n",
            "normal_video_029.mp4 : 2160 x 3840\n",
            "normal_video_030.mp4 : 2160 x 3840\n",
            "normal_video_031.mp4 : 2160 x 3840\n",
            "normal_video_032.mp4 : 2160 x 3840\n",
            "normal_video_033.mp4 : 2160 x 3840\n",
            "normal_video_034.mp4 : 2160 x 3840\n",
            "normal_video_035.mp4 : 2160 x 3840\n",
            "normal_video_036.mp4 : 2160 x 3840\n",
            "normal_video_037.mp4 : 2160 x 3840\n",
            "normal_video_038.mp4 : 2160 x 3840\n",
            "normal_video_039.mp4 : 2160 x 3840\n",
            "normal_video_040.mp4 : 2160 x 3840\n",
            "normal_video_041.mp4 : 2160 x 3840\n",
            "normal_video_042.mp4 : 2160 x 3840\n"
          ],
          "name": "stdout"
        }
      ]
    },
    {
      "cell_type": "code",
      "metadata": {
        "id": "LjRIPeV24OHR",
        "colab_type": "code",
        "colab": {
          "base_uri": "https://localhost:8080/",
          "height": 71
        },
        "outputId": "f0ae6d33-1d37-46c8-a16b-578c6e3c6d54"
      },
      "source": [
        "# Get dimensions of a video file\n",
        "    ## 제공된 파일 \n",
        "% cd /content/drive/My Drive/warming-up project/c3d_ex/input/Train_Normal/\n",
        "\n",
        "path = glob.glob('*.avi')\n",
        "for file_path in path:   \n",
        "    vid = cv2.VideoCapture(file_path)\n",
        "    height = vid.get(cv2.CAP_PROP_FRAME_HEIGHT)\n",
        "    width = vid.get(cv2.CAP_PROP_FRAME_WIDTH)\n",
        "    print(\"{} : {} x {}\".format(file_path.split('/')[-1], int(height), int(width)))"
      ],
      "execution_count": null,
      "outputs": [
        {
          "output_type": "stream",
          "text": [
            "/content/drive/My Drive/warming-up project/c3d_ex/input/Train_Normal\n",
            "v_BaseballPitch_g01_c01.avi : 240 x 320\n",
            "v_ApplyEyeMakeup_g01_c01.avi : 240 x 320\n"
          ],
          "name": "stdout"
        }
      ]
    },
    {
      "cell_type": "code",
      "metadata": {
        "id": "2yjZ46bg4OKk",
        "colab_type": "code",
        "colab": {}
      },
      "source": [
        "# Get dimensions of a video file\n",
        "    ## 제공된 파일 UCF101_samples\n",
        "import cv2\n",
        "import glob\n",
        "% cd /content/drive/My Drive/warming-up project/UCF101_samples/\n",
        "!ls\n",
        "\n",
        "cates = ['./Abuse', './Arrest', './Arson', './Assault']\n",
        "\n",
        "for cate in cates: \n",
        "    path = glob.glob(cate + '/*.mp4')\n",
        "    for file_path in path:   \n",
        "        vid = cv2.VideoCapture(file_path)\n",
        "        height = vid.get(cv2.CAP_PROP_FRAME_HEIGHT)\n",
        "        width = vid.get(cv2.CAP_PROP_FRAME_WIDTH)\n",
        "        print(\"{} : {} x {}\".format(file_path.split('/')[-1], int(height), int(width)))\n",
        "\n",
        "\n",
        "# Arson002_x264.mp4 : 240 x 320\n",
        "# Arson001_x264.mp4 : 240 x 320\n",
        "# Arson003_x264.mp4 : 240 x 320\n",
        "# Arson005_x264.mp4 : 240 x 320\n",
        "# Arson006_x264.mp4 : 240 x 320\n",
        "# Arson007_x264.mp4 : 240 x 320\n",
        "# Assault052_x264.mp4 : 240 x 320\n",
        "# Assault051_x264.mp4 : 240 x 320\n",
        "# Assault050_x264.mp4 : 240 x 320\n",
        "# Assault049_x264.mp4 : 240 x 320\n",
        "# Assault048_x264.mp4 : 240 x 320\n",
        "# Assault001_x264.mp4 : 240 x 320\n",
        "# Assault002_x264.mp4 : 240 x 320\n",
        "# Assault003_x264.mp4 : 240 x 320\n",
        "# Assault004_x264.mp4 : 240 x 320\n",
        "# Assault005_x264.mp4 : 240 x 320\n",
        "# Assault006_x264.mp4 : 240 x 320\n",
        "# Assault007_x264.mp4 : 240 x 320\n",
        "# Assault008_x264.mp4 : 240 x 320\n",
        "# Assault009_x264.mp4 : 240 x 320\n",
        "# Assault010_x264.mp4 : 240 x 320\n",
        "# Assault011_x264.mp4 : 240 x 320        "
      ],
      "execution_count": null,
      "outputs": []
    },
    {
      "cell_type": "code",
      "metadata": {
        "id": "4PJdYKHv4ONg",
        "colab_type": "code",
        "colab": {}
      },
      "source": [
        ""
      ],
      "execution_count": null,
      "outputs": []
    },
    {
      "cell_type": "code",
      "metadata": {
        "id": "CfuxhtWG4OQo",
        "colab_type": "code",
        "colab": {}
      },
      "source": [
        ""
      ],
      "execution_count": null,
      "outputs": []
    },
    {
      "cell_type": "code",
      "metadata": {
        "id": "oM4AJSFO4OWS",
        "colab_type": "code",
        "colab": {}
      },
      "source": [
        ""
      ],
      "execution_count": null,
      "outputs": []
    }
  ]
}